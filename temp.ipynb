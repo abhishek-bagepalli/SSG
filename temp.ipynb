{
 "cells": [
  {
   "cell_type": "code",
   "execution_count": 1,
   "metadata": {},
   "outputs": [
    {
     "name": "stderr",
     "output_type": "stream",
     "text": [
      "c:\\Users\\dell\\anaconda3\\envs\\ssg\\Lib\\site-packages\\tqdm\\auto.py:21: TqdmWarning: IProgress not found. Please update jupyter and ipywidgets. See https://ipywidgets.readthedocs.io/en/stable/user_install.html\n",
      "  from .autonotebook import tqdm as notebook_tqdm\n",
      "Using a slow image processor as `use_fast` is unset and a slow processor was saved with this model. `use_fast=True` will be the default behavior in v4.52, even if the model was saved with a slow processor. This will result in minor differences in outputs. You'll still be able to use a slow processor with `use_fast=False`.\n"
     ]
    }
   ],
   "source": [
    "from tools import get_image_dimensions"
   ]
  },
  {
   "cell_type": "code",
   "execution_count": 2,
   "metadata": {},
   "outputs": [
    {
     "data": {
      "text/plain": [
       "(722, 406, 722, 406)"
      ]
     },
     "execution_count": 2,
     "metadata": {},
     "output_type": "execute_result"
    }
   ],
   "source": [
    "get_image_dimensions('img_p0_1.png')"
   ]
  },
  {
   "cell_type": "code",
   "execution_count": 7,
   "metadata": {},
   "outputs": [
    {
     "name": "stdout",
     "output_type": "stream",
     "text": [
      "\n",
      "Deck Title: Q2 Marketing Strategy Review\n",
      "Section: Brief Assessment  •  Slides: 2\n",
      "   – Yue Sai lost relevance due to failed repositionings\n",
      "   – Competitive market with rising local players and digital consumption\n",
      "   – Align city-tier strategy with clear brand identity\n",
      "\n",
      "Section: Decision Problem  •  Slides: 2\n",
      "   – Thorough market research needed to understand trends and preferences\n",
      "   – Leverage heritage and reputation to appeal to modern consumers\n",
      "   – Implement innovative marketing strategies tailored to local market\n",
      "\n",
      "Section: Criteria  •  Slides: 1\n",
      "   – Analyze sales performance and product-market fit\n",
      "   – Assess local relevance and demographic responsiveness\n",
      "\n",
      "Section: Strategic Fit  •  Slides: 1\n",
      "   – Evaluate alignment of alternatives with brand vision and mission\n",
      "\n",
      "Section: Risk of Attrition  •  Slides: 1\n",
      "   – Measure customer loyalty and growth\n",
      "   – Evaluate customer retention metrics and purchase behavior\n",
      "\n",
      "Section: Execution Complexity  •  Slides: 1\n",
      "   – Assess implementation difficulty of proposed alternative\n",
      "   – Consider costs related to resources, budget constraints, production, and logistics\n",
      "\n",
      "Section: Recommendation  •  Slides: 1\n",
      "   – Alternative 1 - Yue Sai for Modern Young Women\n",
      "   – Rebuild brand with luxury appeal and cultural relevance through TCM\n",
      "   – Target modern, health-conscious young women in China\n",
      "\n",
      "Total slides planned: 9\n",
      "\n"
     ]
    }
   ],
   "source": [
    "# outline_generator.py\n",
    "import os\n",
    "import json\n",
    "from typing import List\n",
    "from pydantic import BaseModel, ValidationError\n",
    "from openai import OpenAI\n",
    "\n",
    "# Initialize OpenAI client\n",
    "client = OpenAI()\n",
    "\n",
    "# Pydantic models for validation\n",
    "class SectionOutline(BaseModel):\n",
    "    heading: str\n",
    "    num_content_slides: int\n",
    "    key_points: List[str]\n",
    "\n",
    "class DocumentOutline(BaseModel):\n",
    "    title: str\n",
    "    subtitle: str | None = None  # Make subtitle optional with default None\n",
    "    sections: List[SectionOutline]\n",
    "\n",
    "# Prompt template\n",
    "PROMPT_TEMPLATE = \"\"\"\n",
    "You are a slide-outline assistant.  \n",
    "Given the document title and a list of section summaries, produce a JSON object matching this schema:\n",
    "\n",
    "{{\n",
    "  \"title\": <string>,           // main deck title\n",
    "  \"subtitle\": <string>,        // optional subtitle or author\n",
    "  \"sections\": [\n",
    "    {{\n",
    "      \"heading\": <string>,     // section heading\n",
    "      \"num_content_slides\": <integer >= 1>,  \n",
    "      \"key_points\": [<string>, …]   // 3–5 bullets that will become slide bullets\n",
    "    }},\n",
    "    …\n",
    "  ]\n",
    "}}\n",
    "\n",
    "Use no extra keys. Constrain total slides (sum of num_content_slides) to be at most {max_slides}.  \n",
    "Here are the inputs:\n",
    "\n",
    "Document Title:\n",
    "{title}\n",
    "\n",
    "Section Summaries:\n",
    "{summaries}\n",
    "\"\"\"\n",
    "\n",
    "def generate_outline(title: str, summaries: List[dict], max_slides: int = 15) -> DocumentOutline:\n",
    "    # Fill prompt\n",
    "    prompt = PROMPT_TEMPLATE.format(\n",
    "        title=title,\n",
    "        summaries=\"\\n\".join(f\"- {s['title']}: {s['summary']}\" for s in summaries),  # Include section titles\n",
    "        max_slides=max_slides\n",
    "    )\n",
    "\n",
    "    # Call the LLM\n",
    "    resp = client.chat.completions.create(\n",
    "        model=\"gpt-3.5-turbo\",\n",
    "        messages=[{\"role\": \"user\", \"content\": prompt}],\n",
    "        temperature=0.3,\n",
    "        max_tokens=1000,  # Increased token limit for longer responses\n",
    "    )\n",
    "\n",
    "    # Parse JSON\n",
    "    content = resp.choices[0].message.content.strip()\n",
    "    try:\n",
    "        outline_dict = json.loads(content)\n",
    "    except json.JSONDecodeError as e:\n",
    "        raise RuntimeError(f\"LLM returned invalid JSON:\\n{content}\") from e\n",
    "\n",
    "    # Validate with Pydantic\n",
    "    try:\n",
    "        outline = DocumentOutline.model_validate(outline_dict)\n",
    "    except ValidationError as e:\n",
    "        raise RuntimeError(f\"Outline validation failed:\\n{e}\") from e\n",
    "\n",
    "    return outline\n",
    "\n",
    "def pretty_print(outline: DocumentOutline):\n",
    "    print(f\"\\nDeck Title: {outline.title}\")\n",
    "    if outline.subtitle:\n",
    "        print(f\"Subtitle: {outline.subtitle}\\n\")\n",
    "    total = 0\n",
    "    for sec in outline.sections:\n",
    "        print(f\"Section: {sec.heading}  •  Slides: {sec.num_content_slides}\")\n",
    "        for pt in sec.key_points:\n",
    "            print(f\"   – {pt}\")\n",
    "        total += sec.num_content_slides\n",
    "        print()\n",
    "    print(f\"Total slides planned: {total}\\n\")\n",
    "\n",
    "if __name__ == \"__main__\":\n",
    "    # Example usage; replace with your real summaries\n",
    "    doc_title = \"Q2 Marketing Strategy Review\"\n",
    "    section_summaries = [{'title': 'Brief Assessment:', 'summary': 'Yue Sai, a once prestigious Chinese cosmetics brand, lost relevance due to failed repositionings, leading to low awareness among younger consumers. L’Oréal faces the challenge of reviving the brand in a competitive market shaped by rising local players and digital consumption. Younger Chinese consumers prefer skin care rooted in tradition. Competitors like Herborist succeed with modern branding rooted in traditional Chinese medicine. Digital platforms and experiential retail offer better engagement than TV ads. L’Oréal must align its city-tier strategy with a clear brand identity to meet evolving consumer expectations.'}, {'title': 'Decision Problem:', 'summary': \"To reposition Yue Sai in China's cosmetics market, L'Oréal must conduct thorough market research to understand current trends and consumer preferences. By leveraging Yue Sai's heritage and reputation, L'Oréal can revamp the brand's image to appeal to modern Chinese consumers. Implementing innovative marketing strategies and product offerings tailored to the local market will be crucial in regaining relevance and increasing market share.\"}, {'title': 'Criteria:', 'summary': \"This slide examines Yue Sai's sales performance and product-market fit. Sales data is analyzed to project revenue, while market research assesses how well products align with target segment needs. Factors like local relevance and demographic responsiveness are considered to ensure products meet customer preferences.\"}, {'title': '3. Strategic Fit', 'summary': \"This slide evaluates the alignment of alternatives with L'Oréal's brand vision and mission. Each alternative is scored based on its compatibility with the company's brand values.\"}, {'title': '4. Risk of Attrition', 'summary': \"Learn how to measure customer loyalty and growth with a focus on retaining existing customers and attracting new ones. Evaluate customer retention metrics, purchase behavior, and changes in demographics to ensure the product's success in the market.\"}, {'title': '5. Execution Complexity', 'summary': 'This slide evaluates the implementation difficulty of the proposed alternative by assessing costs related to resources, budget constraints, production, and logistics. It highlights the importance of considering these factors when making decisions.'}, {'title': 'Moderate Risk', 'summary': 'In a highly competitive digital space, the brand risks alienating older loyalists while facing strong local rivals like Herborist and Chando.'}, {'title': 'Attrition Risk', 'summary': 'Appealing to a broader audience can lead to increased retention rates, but may also dilute brand prestige.'}, {'title': 'Execution', 'summary': 'To achieve moderate growth, implement targeted digital campaigns, invest in TCM research and development, and expand offerings in premium tiers.'}, {'title': 'Very High', 'summary': 'Managing multiple channels can significantly raise complexity and costs.'}, {'title': 'Recommendation: Alternative 1 - Yue Sai for Modern Young Women', 'summary': \"Alternative 1 offers a clear strategy for Yue Sai to rebuild its brand with luxury appeal and cultural relevance through TCM, targeting modern, health-conscious young women in China. This unique position within L'Oreal's portfolio distinguishes Yue Sai from other luxury brands, ensuring long-term growth and market relevance.\"}]\n",
    "    outline = generate_outline(doc_title, section_summaries, max_slides=12)\n",
    "    pretty_print(outline)"
   ]
  },
  {
   "cell_type": "code",
   "execution_count": 11,
   "metadata": {},
   "outputs": [],
   "source": [
    "def save_outline(outline: DocumentOutline, file_path: str):\n",
    "    with open(file_path, \"w\", encoding=\"utf-8\") as f:\n",
    "        json.dump(outline.model_dump(), f, indent=2, ensure_ascii=False)\n"
   ]
  },
  {
   "cell_type": "code",
   "execution_count": 12,
   "metadata": {},
   "outputs": [],
   "source": [
    "save_outline(outline, \"outline.json\")"
   ]
  },
  {
   "cell_type": "code",
   "execution_count": 13,
   "metadata": {},
   "outputs": [],
   "source": [
    "def load_outline(file_path: str) -> DocumentOutline:\n",
    "    with open(file_path, \"r\", encoding=\"utf-8\") as f:\n",
    "        data = json.load(f)\n",
    "    return DocumentOutline.model_validate(data)\n"
   ]
  },
  {
   "cell_type": "code",
   "execution_count": 14,
   "metadata": {},
   "outputs": [
    {
     "data": {
      "text/plain": [
       "DocumentOutline(title='Q2 Marketing Strategy Review', subtitle='', sections=[SectionOutline(heading='Brief Assessment', num_content_slides=2, key_points=['Yue Sai lost relevance due to failed repositionings', 'Competitive market with rising local players and digital consumption', 'Align city-tier strategy with clear brand identity']), SectionOutline(heading='Decision Problem', num_content_slides=2, key_points=['Thorough market research needed to understand trends and preferences', 'Leverage heritage and reputation to appeal to modern consumers', 'Implement innovative marketing strategies tailored to local market']), SectionOutline(heading='Criteria', num_content_slides=1, key_points=['Analyze sales performance and product-market fit', 'Assess local relevance and demographic responsiveness']), SectionOutline(heading='Strategic Fit', num_content_slides=1, key_points=['Evaluate alignment of alternatives with brand vision and mission']), SectionOutline(heading='Risk of Attrition', num_content_slides=1, key_points=['Measure customer loyalty and growth', 'Evaluate customer retention metrics and purchase behavior']), SectionOutline(heading='Execution Complexity', num_content_slides=1, key_points=['Assess implementation difficulty of proposed alternative', 'Consider costs related to resources, budget constraints, production, and logistics']), SectionOutline(heading='Recommendation', num_content_slides=1, key_points=['Alternative 1 - Yue Sai for Modern Young Women', 'Rebuild brand with luxury appeal and cultural relevance through TCM', 'Target modern, health-conscious young women in China'])])"
      ]
     },
     "execution_count": 14,
     "metadata": {},
     "output_type": "execute_result"
    }
   ],
   "source": [
    "load_outline(\"outline.json\")"
   ]
  },
  {
   "cell_type": "code",
   "execution_count": 20,
   "metadata": {},
   "outputs": [],
   "source": [
    "from pydantic import BaseModel\n",
    "from typing import List, Optional\n",
    "\n",
    "class SlideContent(BaseModel):\n",
    "    title: str\n",
    "    bullets: List[str]\n",
    "    speaker_notes: str\n",
    "    image_caption: Optional[str] = None\n"
   ]
  },
  {
   "cell_type": "code",
   "execution_count": null,
   "metadata": {},
   "outputs": [],
   "source": [
    "def generate_slide_content(section_heading: str, key_point: str, need_image: bool = False) -> SlideContent:\n",
    "    system_prompt = \"You are a presentation writing assistant.\"\n",
    "    user_prompt = f\"\"\"\n",
    "Generate content for one PowerPoint slide.\n",
    "\n",
    "Slide Context:\n",
    "- Section heading: \"{section_heading}\"\n",
    "- Key point: \"{key_point}\"\n",
    "\n",
    "Output in this format (no extra commentary):\n",
    "\n",
    "{{\n",
    "  \"title\": <Slide title>,\n",
    "  \"bullets\": [<bullet point 1>, <bullet point 2>, ...],\n",
    "  \"speaker_notes\": <narration text>,\n",
    "  \"image_caption\": <caption describing what kind of image should go on this slide>  # Omit if no image needed\n",
    "}}\n",
    "\n",
    "Guidelines:\n",
    "- Keep bullets short, concise, and professional.\n",
    "- Speaker notes should be 2-3 sentences expanding on the bullets.\n",
    "- If `image_caption` is included, describe the image in a way that helps retrieve it from an image search or RAG system.\n",
    "\"\"\"\n",
    "    resp = client.chat.completions.create(\n",
    "        model=\"gpt-3.5-turbo\",\n",
    "        messages=[\n",
    "            {\"role\": \"system\", \"content\": system_prompt},\n",
    "            {\"role\": \"user\", \"content\": user_prompt}\n",
    "        ],\n",
    "        temperature=0.5,\n",
    "        max_tokens=600,\n",
    "    )\n",
    "\n",
    "    content = resp.choices[0].message.content.strip()\n",
    "    try:\n",
    "        slide_dict = json.loads(content)\n",
    "    except json.JSONDecodeError as e:\n",
    "        raise RuntimeError(f\"Invalid JSON from LLM:\\n{content}\") from e\n",
    "\n",
    "    return SlideContent.model_validate(slide_dict)\n"
   ]
  },
  {
   "cell_type": "code",
   "execution_count": 29,
   "metadata": {},
   "outputs": [],
   "source": [
    "def generate_deck_slides(outline: DocumentOutline, image_every_n: int = 2) -> List[SlideContent]:\n",
    "    print('inside generate_deck_slides')\n",
    "    all_slides = []\n",
    "    slide_counter = 0\n",
    "\n",
    "    for section in outline.sections:\n",
    "        for i, key_point in enumerate(section.key_points):\n",
    "            print(f\"Generating slide {slide_counter + 1} of {len(outline.sections) * len(outline.sections[0].key_points)}\")\n",
    "            need_image = ((slide_counter % image_every_n) == 0)\n",
    "            slide = generate_slide_content(\n",
    "                section_heading=section.heading,\n",
    "                key_point=key_point,\n",
    "                need_image=need_image\n",
    "            )\n",
    "            all_slides.append(slide)\n",
    "            slide_counter += 1\n",
    "\n",
    "    return all_slides\n"
   ]
  },
  {
   "cell_type": "code",
   "execution_count": 30,
   "metadata": {},
   "outputs": [
    {
     "name": "stdout",
     "output_type": "stream",
     "text": [
      "hi\n"
     ]
    }
   ],
   "source": [
    "print('hi')"
   ]
  },
  {
   "cell_type": "code",
   "execution_count": 31,
   "metadata": {},
   "outputs": [
    {
     "name": "stdout",
     "output_type": "stream",
     "text": [
      "inside generate_deck_slides\n",
      "Generating slide 1 of 21\n",
      "Generating slide 2 of 21\n",
      "Generating slide 3 of 21\n",
      "Generating slide 4 of 21\n",
      "Generating slide 5 of 21\n",
      "Generating slide 6 of 21\n",
      "Generating slide 7 of 21\n",
      "Generating slide 8 of 21\n",
      "Generating slide 9 of 21\n",
      "Generating slide 10 of 21\n",
      "Generating slide 11 of 21\n",
      "Generating slide 12 of 21\n",
      "Generating slide 13 of 21\n",
      "Generating slide 14 of 21\n",
      "Generating slide 15 of 21\n",
      "Generating slide 16 of 21\n"
     ]
    },
    {
     "data": {
      "text/plain": [
       "[SlideContent(title=\"Assessment: Yue Sai's Loss of Relevance\", bullets=['Multiple failed attempts to reposition the brand', 'Loss of relevance among target consumers', 'Decline in brand value and market share'], speaker_notes='Yue Sai, once a prominent brand, has lost its relevance due to several unsuccessful repositioning attempts. This has led to a disconnect with its target audience, resulting in a significant decrease in brand value and market share.', image_caption=\"A graph showing the decline in Yue Sai's market share over time\"),\n",
       " SlideContent(title='Brief Assessment: Market Competition & Digital Consumption', bullets=['Increasing competition from emerging local players', 'Significant growth in digital consumption', 'Necessity for strategic adaptation to stay competitive'], speaker_notes=\"The market is experiencing a surge in competition due to the rise of local players. Concurrently, there's a notable increase in digital consumption which is reshaping the industry landscape. To maintain market position, it's imperative to strategically adapt to these evolving trends.\", image_caption='A bar graph showing the rise of local players over time and a line graph showing the increase in digital consumption'),\n",
       " SlideContent(title='Assessment of City-Tier Strategy Alignment with Brand Identity', bullets=['Examine current brand identity and city-tier strategy', 'Identify gaps in alignment', 'Propose steps to enhance alignment'], speaker_notes='Our assessment begins with a thorough examination of our current brand identity and city-tier strategy. We then identify any gaps or discrepancies between the two, which could potentially hinder our growth. Finally, we propose strategic steps to enhance alignment, ensuring that our brand identity is consistently represented across all city tiers.', image_caption='A flowchart illustrating the process of aligning city-tier strategy with brand identity'),\n",
       " SlideContent(title='The Importance of Market Research', bullets=['Market research is key to understanding consumer behavior', 'Identifies current market trends and consumer preferences', 'Helps in making informed business decisions'], speaker_notes='Market research is a crucial tool for understanding consumer behavior, which can greatly influence the success of our business. By identifying current market trends and consumer preferences, we can tailor our products or services to meet the demands of our target market. This informed approach to business decision-making can lead to increased customer satisfaction and business growth.', image_caption='A graphic showing a magnifying glass over a market research report, symbolizing the detailed investigation of market trends and consumer preferences'),\n",
       " SlideContent(title='Leveraging Heritage in Modern Consumer Appeal', bullets=['Understanding the value of heritage and reputation', 'Strategies to integrate heritage into modern marketing', 'Case studies of successful heritage leverage'], speaker_notes='Heritage and reputation are valuable assets that can be leveraged to appeal to modern consumers. We will discuss strategies for integrating these aspects into our current marketing efforts. We will also look at case studies where brands successfully used their heritage to enhance their appeal.', image_caption='A split image showing a vintage advertisement on one side and a modern, updated version of the same brand on the other side'),\n",
       " SlideContent(title='Addressing the Decision Problem', bullets=['Understanding local market dynamics', 'Designing innovative marketing strategies', 'Implementing strategies tailored to local market'], speaker_notes='To address the decision problem, it is crucial to understand the dynamics of the local market. This understanding will guide the design of innovative marketing strategies. These strategies will then be tailored to meet the unique needs and preferences of the local market.', image_caption='An image showing a team brainstorming innovative marketing strategies with a map of local market on the background'),\n",
       " SlideContent(title='Criteria for Analyzing Sales Performance and Product-Market Fit', bullets=['Identify key performance indicators (KPIs) for sales', 'Evaluate sales trends and patterns', 'Assess customer feedback and satisfaction', 'Determine product-market fit through market research'], speaker_notes=\"Firstly, we need to identify the key performance indicators for sales which will help us measure our success. Next, we will evaluate sales trends and patterns to understand our performance over time. Customer feedback and satisfaction levels are also crucial in understanding our product's position in the market. Lastly, we will use market research to determine if our product fits the market needs and demands.\", image_caption='A graph showing sales trends over time and a pie chart representing customer satisfaction levels'),\n",
       " SlideContent(title='Criteria: Local Relevance & Demographic Responsiveness', bullets=['Assessing the local relevance of the product or service', 'Understanding the demographic responsiveness to the product or service', 'Identifying key demographic characteristics', 'Evaluating market penetration in the local area'], speaker_notes='Local relevance refers to how well our product or service fits into the local market, considering cultural, economic, and social factors. Demographic responsiveness is about understanding who our target demographic is, their characteristics, and how they respond to our product or service. This includes evaluating our current market penetration and identifying areas for growth.', image_caption='A bar graph showing demographic distribution and a pie chart showing market penetration in the local area'),\n",
       " SlideContent(title='Strategic Fit: Aligning Alternatives with Brand Vision and Mission', bullets=['Assessment of alternatives against brand vision and mission', 'Prioritizing options that enhance and align with brand identity', \"Discarding alternatives that deviate from brand's strategic direction\"], speaker_notes=\"It's crucial to evaluate all alternatives against our brand's vision and mission. We prioritize those options that not only solve the problem at hand, but also enhance and align with our brand identity. Any alternatives that deviate from our strategic direction are discarded to maintain brand consistency and integrity.\", image_caption=\"A graphic showing a compass with the brand's vision and mission at the center, and alternatives being evaluated in relation to their direction\"),\n",
       " SlideContent(title='Understanding Attrition Risk', bullets=['Quantifying customer loyalty', 'Tracking customer growth', 'Importance of reducing attrition'], speaker_notes='Customer loyalty can be quantified through metrics such as repeat purchase rate and customer lifetime value. Tracking customer growth involves monitoring the increase in the number of customers, their purchase frequency, and their average spend. Reducing attrition is crucial as it is more cost-effective to retain existing customers than to acquire new ones.', image_caption='A graph showing the correlation between customer loyalty and growth with the attrition rate'),\n",
       " SlideContent(title='Evaluating the Risk of Customer Attrition', bullets=['Importance of monitoring customer retention metrics', 'Understanding customer purchase behavior', 'Identifying key factors leading to customer attrition', 'Strategies to mitigate attrition risk'], speaker_notes=\"Monitoring customer retention metrics is crucial as it provides insight into customer loyalty and satisfaction. Understanding customer purchase behavior helps us identify patterns that may signal a risk of attrition. It's also important to identify key factors that lead to customer attrition so we can develop effective strategies to mitigate these risks.\", image_caption='A bar chart showing customer retention metrics over time, with a line graph overlay showing the rate of customer attrition.'),\n",
       " SlideContent(title='Assessing Implementation Difficulty', bullets=['Evaluate the technical demands of the alternative', 'Consider the time, resources, and skills required', 'Analyze potential risks and challenges', 'Factor in the adaptability of the existing system'], speaker_notes=\"When assessing the implementation difficulty, we must first understand the technical demands of the proposed alternative. This includes considering the time, resources, and skills required to execute the change. It's also important to analyze potential risks and challenges that might arise during the implementation process. Lastly, the adaptability of the existing system to the new changes should be factored in.\", image_caption='A flowchart showing the process of assessing implementation difficulty'),\n",
       " SlideContent(title='Understanding Execution Complexity', bullets=['Resource allocation and management', 'Budget restrictions and financial planning', 'Production challenges and solutions', 'Logistical hurdles and strategies'], speaker_notes='Execution complexity involves multiple factors such as resource allocation, which includes managing human and material resources efficiently. Budget constraints require careful financial planning and prioritization. Production can present its own set of challenges that need innovative solutions. Lastly, logistics can pose hurdles in terms of transportation, warehousing, and distribution which require strategic planning.', image_caption='A flowchart illustrating the interplay between resources, budget, production, and logistics in execution complexity'),\n",
       " SlideContent(title='Recommendation: Yue Sai for Modern Young Women', bullets=['Rebranding Yue Sai to appeal to younger demographics', 'Leverage digital marketing and social media platforms', \"Promote products as 'fusion' of tradition and modernity\"], speaker_notes=\"Our first alternative is to rebrand Yue Sai to cater to the modern young women. This can be achieved through leveraging digital marketing and social media platforms, which are predominantly used by this demographic. Additionally, promoting products as a 'fusion' of tradition and modernity can help to bridge the gap between the brand's heritage and the contemporary beauty trends.\", image_caption='Image of a young woman using a Yue Sai product, with social media icons in the background to represent digital marketing'),\n",
       " SlideContent(title='Recommendation: Rebranding Through TCM', bullets=['Revamp brand image to exude luxury', 'Incorporate elements of Traditional Chinese Medicine (TCM) for cultural relevance', \"Leverage TCM's popularity to attract and retain consumers\", 'Ensure brand messaging aligns with luxury and TCM values'], speaker_notes=\"To rebuild the brand, it is recommended to reposition ourselves in the luxury market segment. This can be achieved by incorporating elements of Traditional Chinese Medicine (TCM), which not only adds cultural relevance but also leverages the popularity of TCM. It's crucial to ensure that our brand messaging aligns with the values associated with both luxury and TCM.\", image_caption='A collage showing luxury items juxtaposed with TCM elements like herbs, acupuncture, and tai chi'),\n",
       " SlideContent(title='Recommendation: Targeting Health-Conscious Young Women in China', bullets=['Focus on digital marketing strategies', 'Promote products with health and wellness benefits', 'Utilize influencers and KOLs in the health and fitness industry'], speaker_notes='To effectively reach this demographic, we should prioritize digital marketing strategies, including social media and e-commerce platforms. Emphasize the health and wellness benefits of our products in our messaging. Additionally, collaboration with influencers and Key Opinion Leaders (KOLs) in the health and fitness industry can help us gain more visibility and credibility.', image_caption='A graphic showing the intersection of digital marketing, health and wellness, and influencer marketing')]"
      ]
     },
     "execution_count": 31,
     "metadata": {},
     "output_type": "execute_result"
    }
   ],
   "source": [
    "generate_deck_slides(outline)"
   ]
  },
  {
   "cell_type": "code",
   "execution_count": null,
   "metadata": {},
   "outputs": [],
   "source": [
    "# Figure out why 21 slides are being generated. \n",
    "# There were 7 key points. Not all of them need their own slides. \n"
   ]
  }
 ],
 "metadata": {
  "kernelspec": {
   "display_name": "ssg",
   "language": "python",
   "name": "python3"
  },
  "language_info": {
   "codemirror_mode": {
    "name": "ipython",
    "version": 3
   },
   "file_extension": ".py",
   "mimetype": "text/x-python",
   "name": "python",
   "nbconvert_exporter": "python",
   "pygments_lexer": "ipython3",
   "version": "3.12.9"
  }
 },
 "nbformat": 4,
 "nbformat_minor": 2
}
